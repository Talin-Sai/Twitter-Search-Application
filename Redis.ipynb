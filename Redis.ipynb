{
 "cells": [
  {
   "cell_type": "code",
   "execution_count": 66,
   "id": "a55754a6",
   "metadata": {},
   "outputs": [],
   "source": [
    "import redis\n",
    "import json\n",
    "import datetime\n",
    "import math\n",
    "\n",
    "class Cache():\n",
    "    \n",
    "    def __init__(self):\n",
    "        self.r = redis.StrictRedis(host='localhost', port = 6379, db = 0)\n",
    "        self.p = redis.StrictRedis(host='localhost', port = 6379, db = 1)\n",
    "\n",
    "    def data_modifier(self, data):\n",
    "        res = {'res': data}\n",
    "        json_res = json.dumps(res,ensure_ascii=False).encode('utf8')\n",
    "        return json_res\n",
    "\n",
    "    def convert_to_num(self, s):\n",
    "        if s[-1] == 'K':\n",
    "            return (float(s[0:s.find('.')]) + float(s[s.find('.'):s.find('K')]))/1000\n",
    "        return float(s[0:s.find('.')]) + float(s[s.find('.'):s.find('M')])\n",
    "\n",
    "    def clear_20_percent(self, cur_mem):\n",
    "\n",
    "        # First sorting searches\n",
    "        keys, idle_times = [], []\n",
    "        for key in self.r.scan_iter(\"*\"):\n",
    "            idle = self.r.object(\"idletime\", key)\n",
    "            keys.append(key)\n",
    "            idle_times.append(idle)\n",
    "\n",
    "        keys = [k for i,k in sorted(zip(idle_times, keys))]\n",
    "        target = math.ceil(len(keys)*0.2)\n",
    "\n",
    "        # deleting oldest 20% of keys\n",
    "        for i in range(target):\n",
    "            self.r.delete(keys.pop())\n",
    "\n",
    "        # if current cache memory still more than 10 mb [only a safety check]\n",
    "        cur_mem = self.convert_to_num(self.r.info()['used_memory_human'])\n",
    "        while(cur_mem > 10):\n",
    "            self.r.delete(keys.pop())\n",
    "            cur_mem = self.convert_to_num(self.r.info()['used_memory_human'])\n",
    "\n",
    "    def push_to_dynamic_cache(self, key, data):\n",
    "        data = self.data_modifier(data)\n",
    "        cur_mem = self.convert_to_num(self.r.info()['used_memory_human'])\n",
    "        if cur_mem < 10:\n",
    "            self.r.set(key, data)\n",
    "        else:\n",
    "            self.clear_20_percent(cur_mem)\n",
    "            self.r.set(key, data)\n",
    "\n",
    "    def get_from_dynamic_cache(self, key):\n",
    "        try:\n",
    "            return json.loads(self.r.get(key).decode())['res']\n",
    "        except:\n",
    "            return -1\n",
    "\n",
    "    def push_to_top10_cache(self, key, data):\n",
    "        data = self.data_modifier(data)\n",
    "        self.p.set(key, data)\n",
    "\n",
    "    def get_from_top10_cache(self, key):\n",
    "        try:\n",
    "            return json.loads(self.p.get(key).decode())['res']\n",
    "        except:\n",
    "            return -1"
   ]
  },
  {
   "cell_type": "code",
   "execution_count": 67,
   "id": "f9617ca5",
   "metadata": {},
   "outputs": [],
   "source": [
    "o1=Cache()"
   ]
  },
  {
   "cell_type": "code",
   "execution_count": 76,
   "id": "5514152e",
   "metadata": {},
   "outputs": [],
   "source": [
    "x=[(62513246,\n",
    "  '62513246',\n",
    "  'J.K. Rowling',\n",
    "  'jk_rowling',\n",
    "  'Scotland',\n",
    "  'Writer sometimes known as Robert Galbraith',\n",
    "  'True',\n",
    "  14608046,\n",
    "  27353,\n",
    "  (datetime.datetime(2009, 8, 3, 13, 23, 45)).isoformat(),\n",
    "  721),\n",
    " (186712788,\n",
    "  '186712788',\n",
    "  'jose marie viceral',\n",
    "  'vicegandako',\n",
    "  'Earth',\n",
    "  'Supermodel turned actress turned horse',\n",
    "  'True',\n",
    "  13527555,\n",
    "  135,\n",
    "  (datetime.datetime(2010, 9, 4, 5, 12, 31)).isoformat(),\n",
    "  517),\n",
    "   (405427035,\n",
    "  '405427035',\n",
    "  'Arvind Kejriwal',\n",
    "  'ArvindKejriwal',\n",
    "  'India',\n",
    "  'सब इंसान बराबर हैं, चाहे वो किसी धर्म या जाति के हों। हमें ऐसा भारत बनाना है जहाँ सभी धर्म और जाति के लोगों में भाईचारा और मोहब्बत हो, न कि नफ़रत और बैर हो।',\n",
    "  'True',\n",
    "  18335920,\n",
    "  618,\n",
    "  (datetime.datetime(2011, 11, 5, 9, 15, 8)).isoformat(),\n",
    "  221)]"
   ]
  },
  {
   "cell_type": "code",
   "execution_count": 79,
   "id": "5db1f529",
   "metadata": {},
   "outputs": [],
   "source": [
    "o1.push_to_dynamic_cache('search rowling category author',x)"
   ]
  },
  {
   "cell_type": "code",
   "execution_count": 80,
   "id": "037ccd45",
   "metadata": {},
   "outputs": [
    {
     "data": {
      "text/plain": [
       "[[62513246,\n",
       "  '62513246',\n",
       "  'J.K. Rowling',\n",
       "  'jk_rowling',\n",
       "  'Scotland',\n",
       "  'Writer sometimes known as Robert Galbraith',\n",
       "  'True',\n",
       "  14608046,\n",
       "  27353,\n",
       "  '2009-08-03T13:23:45',\n",
       "  721],\n",
       " [186712788,\n",
       "  '186712788',\n",
       "  'jose marie viceral',\n",
       "  'vicegandako',\n",
       "  'Earth',\n",
       "  'Supermodel turned actress turned horse',\n",
       "  'True',\n",
       "  13527555,\n",
       "  135,\n",
       "  '2010-09-04T05:12:31',\n",
       "  517],\n",
       " [405427035,\n",
       "  '405427035',\n",
       "  'Arvind Kejriwal',\n",
       "  'ArvindKejriwal',\n",
       "  'India',\n",
       "  'सब इंसान बराबर हैं, चाहे वो किसी धर्म या जाति के हों। हमें ऐसा भारत बनाना है जहाँ सभी धर्म और जाति के लोगों में भाईचारा और मोहब्बत हो, न कि नफ़रत और बैर हो।',\n",
       "  'True',\n",
       "  18335920,\n",
       "  618,\n",
       "  '2011-11-05T09:15:08',\n",
       "  221]]"
      ]
     },
     "execution_count": 80,
     "metadata": {},
     "output_type": "execute_result"
    }
   ],
   "source": [
    "o1.get_from_dynamic_cache('search rowling category author')"
   ]
  },
  {
   "cell_type": "code",
   "execution_count": 71,
   "id": "2af5b64c",
   "metadata": {},
   "outputs": [],
   "source": [
    "o1.push_to_top10_cache('top10users', x)"
   ]
  },
  {
   "cell_type": "code",
   "execution_count": 72,
   "id": "d6d5c6aa",
   "metadata": {},
   "outputs": [
    {
     "data": {
      "text/plain": [
       "-1"
      ]
     },
     "execution_count": 72,
     "metadata": {},
     "output_type": "execute_result"
    }
   ],
   "source": [
    "o1.get_from_top10_cache('top10authors')"
   ]
  },
  {
   "cell_type": "code",
   "execution_count": null,
   "id": "4f615a84",
   "metadata": {},
   "outputs": [],
   "source": []
  }
 ],
 "metadata": {
  "kernelspec": {
   "display_name": "Python 3",
   "language": "python",
   "name": "python3"
  },
  "language_info": {
   "codemirror_mode": {
    "name": "ipython",
    "version": 3
   },
   "file_extension": ".py",
   "mimetype": "text/x-python",
   "name": "python",
   "nbconvert_exporter": "python",
   "pygments_lexer": "ipython3",
   "version": "3.9.5"
  }
 },
 "nbformat": 4,
 "nbformat_minor": 5
}
